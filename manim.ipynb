{
 "cells": [
  {
   "cell_type": "code",
   "execution_count": 1,
   "id": "94baa310",
   "metadata": {},
   "outputs": [
    {
     "name": "stdout",
     "output_type": "stream",
     "text": [
      "Requirement already satisfied: manimgl in c:\\users\\wande\\anaconda3\\lib\\site-packages (1.6.1)\n",
      "Requirement already satisfied: colour in c:\\users\\wande\\anaconda3\\lib\\site-packages (from manimgl) (0.1.5)\n",
      "Requirement already satisfied: numpy in c:\\users\\wande\\anaconda3\\lib\\site-packages (from manimgl) (1.24.3)\n",
      "Requirement already satisfied: Pillow in c:\\users\\wande\\anaconda3\\lib\\site-packages (from manimgl) (10.0.1)\n",
      "Requirement already satisfied: scipy in c:\\users\\wande\\anaconda3\\lib\\site-packages (from manimgl) (1.10.1)\n",
      "Requirement already satisfied: sympy in c:\\users\\wande\\anaconda3\\lib\\site-packages (from manimgl) (1.11.1)\n",
      "Requirement already satisfied: tqdm in c:\\users\\wande\\anaconda3\\lib\\site-packages (from manimgl) (4.65.0)\n",
      "Requirement already satisfied: mapbox-earcut in c:\\users\\wande\\anaconda3\\lib\\site-packages (from manimgl) (1.0.1)\n",
      "Requirement already satisfied: matplotlib in c:\\users\\wande\\anaconda3\\lib\\site-packages (from manimgl) (3.7.1)\n",
      "Requirement already satisfied: moderngl in c:\\users\\wande\\anaconda3\\lib\\site-packages (from manimgl) (5.10.0)\n",
      "Requirement already satisfied: moderngl-window in c:\\users\\wande\\anaconda3\\lib\\site-packages (from manimgl) (2.4.5)\n",
      "Requirement already satisfied: skia-pathops in c:\\users\\wande\\anaconda3\\lib\\site-packages (from manimgl) (0.8.0.post1)\n",
      "Requirement already satisfied: pydub in c:\\users\\wande\\anaconda3\\lib\\site-packages (from manimgl) (0.25.1)\n",
      "Requirement already satisfied: pygments in c:\\users\\wande\\anaconda3\\lib\\site-packages (from manimgl) (2.15.1)\n",
      "Requirement already satisfied: pyyaml in c:\\users\\wande\\anaconda3\\lib\\site-packages (from manimgl) (6.0)\n",
      "Requirement already satisfied: rich in c:\\users\\wande\\anaconda3\\lib\\site-packages (from manimgl) (13.7.1)\n",
      "Requirement already satisfied: screeninfo in c:\\users\\wande\\anaconda3\\lib\\site-packages (from manimgl) (0.8.1)\n",
      "Requirement already satisfied: validators in c:\\users\\wande\\anaconda3\\lib\\site-packages (from manimgl) (0.22.0)\n",
      "Requirement already satisfied: ipython in c:\\users\\wande\\anaconda3\\lib\\site-packages (from manimgl) (8.12.0)\n",
      "Requirement already satisfied: PyOpenGL in c:\\users\\wande\\anaconda3\\lib\\site-packages (from manimgl) (3.1.7)\n",
      "Requirement already satisfied: manimpango<0.5.0,>=0.4.0.post0 in c:\\users\\wande\\anaconda3\\lib\\site-packages (from manimgl) (0.4.4)\n",
      "Requirement already satisfied: isosurfaces in c:\\users\\wande\\anaconda3\\lib\\site-packages (from manimgl) (0.1.2)\n",
      "Requirement already satisfied: svgelements in c:\\users\\wande\\anaconda3\\lib\\site-packages (from manimgl) (1.9.6)\n",
      "Requirement already satisfied: backcall in c:\\users\\wande\\anaconda3\\lib\\site-packages (from ipython->manimgl) (0.2.0)\n",
      "Requirement already satisfied: decorator in c:\\users\\wande\\anaconda3\\lib\\site-packages (from ipython->manimgl) (5.1.1)\n",
      "Requirement already satisfied: jedi>=0.16 in c:\\users\\wande\\anaconda3\\lib\\site-packages (from ipython->manimgl) (0.18.1)\n",
      "Requirement already satisfied: matplotlib-inline in c:\\users\\wande\\anaconda3\\lib\\site-packages (from ipython->manimgl) (0.1.6)\n",
      "Requirement already satisfied: pickleshare in c:\\users\\wande\\anaconda3\\lib\\site-packages (from ipython->manimgl) (0.7.5)\n",
      "Requirement already satisfied: prompt-toolkit!=3.0.37,<3.1.0,>=3.0.30 in c:\\users\\wande\\anaconda3\\lib\\site-packages (from ipython->manimgl) (3.0.36)\n",
      "Requirement already satisfied: stack-data in c:\\users\\wande\\anaconda3\\lib\\site-packages (from ipython->manimgl) (0.2.0)\n",
      "Requirement already satisfied: traitlets>=5 in c:\\users\\wande\\anaconda3\\lib\\site-packages (from ipython->manimgl) (5.7.1)\n",
      "Requirement already satisfied: colorama in c:\\users\\wande\\anaconda3\\lib\\site-packages (from ipython->manimgl) (0.4.6)\n",
      "Requirement already satisfied: contourpy>=1.0.1 in c:\\users\\wande\\anaconda3\\lib\\site-packages (from matplotlib->manimgl) (1.0.5)\n",
      "Requirement already satisfied: cycler>=0.10 in c:\\users\\wande\\anaconda3\\lib\\site-packages (from matplotlib->manimgl) (0.11.0)\n",
      "Requirement already satisfied: fonttools>=4.22.0 in c:\\users\\wande\\anaconda3\\lib\\site-packages (from matplotlib->manimgl) (4.25.0)\n",
      "Requirement already satisfied: kiwisolver>=1.0.1 in c:\\users\\wande\\anaconda3\\lib\\site-packages (from matplotlib->manimgl) (1.4.4)\n",
      "Requirement already satisfied: packaging>=20.0 in c:\\users\\wande\\anaconda3\\lib\\site-packages (from matplotlib->manimgl) (23.0)\n",
      "Requirement already satisfied: pyparsing>=2.3.1 in c:\\users\\wande\\anaconda3\\lib\\site-packages (from matplotlib->manimgl) (3.0.9)\n",
      "Requirement already satisfied: python-dateutil>=2.7 in c:\\users\\wande\\anaconda3\\lib\\site-packages (from matplotlib->manimgl) (2.8.2)\n",
      "Requirement already satisfied: glcontext<3,>=2.5.0 in c:\\users\\wande\\anaconda3\\lib\\site-packages (from moderngl->manimgl) (2.5.0)\n",
      "Requirement already satisfied: pyglet~=2.0.0 in c:\\users\\wande\\anaconda3\\lib\\site-packages (from moderngl-window->manimgl) (2.0.11)\n",
      "Requirement already satisfied: pyrr<1,>=0.10.3 in c:\\users\\wande\\anaconda3\\lib\\site-packages (from moderngl-window->manimgl) (0.10.3)\n",
      "Requirement already satisfied: markdown-it-py>=2.2.0 in c:\\users\\wande\\anaconda3\\lib\\site-packages (from rich->manimgl) (2.2.0)\n",
      "Requirement already satisfied: mpmath>=0.19 in c:\\users\\wande\\anaconda3\\lib\\site-packages (from sympy->manimgl) (1.2.1)\n",
      "Requirement already satisfied: parso<0.9.0,>=0.8.0 in c:\\users\\wande\\anaconda3\\lib\\site-packages (from jedi>=0.16->ipython->manimgl) (0.8.3)\n",
      "Requirement already satisfied: mdurl~=0.1 in c:\\users\\wande\\anaconda3\\lib\\site-packages (from markdown-it-py>=2.2.0->rich->manimgl) (0.1.0)\n",
      "Requirement already satisfied: wcwidth in c:\\users\\wande\\anaconda3\\lib\\site-packages (from prompt-toolkit!=3.0.37,<3.1.0,>=3.0.30->ipython->manimgl) (0.2.5)\n",
      "Requirement already satisfied: multipledispatch in c:\\users\\wande\\anaconda3\\lib\\site-packages (from pyrr<1,>=0.10.3->moderngl-window->manimgl) (0.6.0)\n",
      "Requirement already satisfied: six>=1.5 in c:\\users\\wande\\anaconda3\\lib\\site-packages (from python-dateutil>=2.7->matplotlib->manimgl) (1.16.0)\n",
      "Requirement already satisfied: executing in c:\\users\\wande\\anaconda3\\lib\\site-packages (from stack-data->ipython->manimgl) (0.8.3)\n",
      "Requirement already satisfied: asttokens in c:\\users\\wande\\anaconda3\\lib\\site-packages (from stack-data->ipython->manimgl) (2.0.5)\n",
      "Requirement already satisfied: pure-eval in c:\\users\\wande\\anaconda3\\lib\\site-packages (from stack-data->ipython->manimgl) (0.2.2)\n"
     ]
    },
    {
     "ename": "ModuleNotFoundError",
     "evalue": "No module named 'manim'",
     "output_type": "error",
     "traceback": [
      "\u001b[1;31m---------------------------------------------------------------------------\u001b[0m",
      "\u001b[1;31mModuleNotFoundError\u001b[0m                       Traceback (most recent call last)",
      "Cell \u001b[1;32mIn[1], line 2\u001b[0m\n\u001b[0;32m      1\u001b[0m get_ipython()\u001b[38;5;241m.\u001b[39msystem(\u001b[38;5;124m'\u001b[39m\u001b[38;5;124mpip install manimgl\u001b[39m\u001b[38;5;124m'\u001b[39m)\n\u001b[1;32m----> 2\u001b[0m \u001b[38;5;28;01mfrom\u001b[39;00m \u001b[38;5;21;01mmanim\u001b[39;00m \u001b[38;5;28;01mimport\u001b[39;00m \u001b[38;5;241m*\u001b[39m\n\u001b[0;32m      5\u001b[0m \u001b[38;5;28;01mclass\u001b[39;00m \u001b[38;5;21;01mCreateCircle\u001b[39;00m(Scene):\n\u001b[0;32m      6\u001b[0m     \u001b[38;5;28;01mdef\u001b[39;00m \u001b[38;5;21mconstruct\u001b[39m(\u001b[38;5;28mself\u001b[39m):\n",
      "\u001b[1;31mModuleNotFoundError\u001b[0m: No module named 'manim'"
     ]
    }
   ],
   "source": []
  },
  {
   "cell_type": "code",
   "execution_count": null,
   "id": "5efa4458",
   "metadata": {},
   "outputs": [],
   "source": []
  },
  {
   "cell_type": "code",
   "execution_count": null,
   "id": "807d9f86",
   "metadata": {},
   "outputs": [],
   "source": []
  },
  {
   "cell_type": "code",
   "execution_count": null,
   "id": "d3d3a00d",
   "metadata": {},
   "outputs": [],
   "source": []
  }
 ],
 "metadata": {
  "kernelspec": {
   "display_name": "Python 3 (ipykernel)",
   "language": "python",
   "name": "python3"
  },
  "language_info": {
   "codemirror_mode": {
    "name": "ipython",
    "version": 3
   },
   "file_extension": ".py",
   "mimetype": "text/x-python",
   "name": "python",
   "nbconvert_exporter": "python",
   "pygments_lexer": "ipython3",
   "version": "3.11.3"
  }
 },
 "nbformat": 4,
 "nbformat_minor": 5
}
